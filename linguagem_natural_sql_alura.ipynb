{
  "nbformat": 4,
  "nbformat_minor": 0,
  "metadata": {
    "colab": {
      "provenance": [],
      "authorship_tag": "ABX9TyOF8TcFLgBnWKhEKIWA8gJy",
      "include_colab_link": true
    },
    "kernelspec": {
      "name": "python3",
      "display_name": "Python 3"
    },
    "language_info": {
      "name": "python"
    }
  },
  "cells": [
    {
      "cell_type": "markdown",
      "metadata": {
        "id": "view-in-github",
        "colab_type": "text"
      },
      "source": [
        "<a href=\"https://colab.research.google.com/github/nevesw/gemini-linguagem-natural-para-sql/blob/main/linguagem_natural_sql_alura.ipynb\" target=\"_parent\"><img src=\"https://colab.research.google.com/assets/colab-badge.svg\" alt=\"Open In Colab\"/></a>"
      ]
    },
    {
      "cell_type": "markdown",
      "source": [
        "# Projeto de tradução da linguagem natural para linguagem SQL\n",
        "\n",
        "A Ideia do projeto é receber uma pergunta simples sobre informações de uma base de dados que possivelmente seria feita pela área de negócios, pessoas não programadoras ou stakeholders, traduzir a pergunta para linguagem sql, e retornar o resultado."
      ],
      "metadata": {
        "id": "SLWORFkYuN4E"
      }
    },
    {
      "cell_type": "markdown",
      "source": [
        "## Importação de blibliotecas necessárias para rodar o projeto"
      ],
      "metadata": {
        "id": "HYpq7d0X8azX"
      }
    },
    {
      "cell_type": "code",
      "execution_count": 1,
      "metadata": {
        "id": "yGJZS1D5itOW"
      },
      "outputs": [],
      "source": [
        "!pip install -q -U google-generativeai\n",
        "!pip install pandas"
      ]
    },
    {
      "cell_type": "code",
      "source": [
        "# Import the Python SDK\n",
        "import google.generativeai as genai\n",
        "import os\n",
        "import pandas as pd\n",
        "# Used to securely store your API key\n",
        "#from google.colab import userdata\n",
        "\n",
        "#GOOGLE_API_KEY=userdata.get('GOOGLE_API_KEY')\n",
        "\n",
        "#Entre aqui com sua API KEY DO GEMINI\n",
        "GOOGLE_API_KEY=\"SUA-KEY\"\n",
        "genai.configure(api_key=GOOGLE_API_KEY)"
      ],
      "metadata": {
        "id": "jmAng3BpvoAF"
      },
      "execution_count": 7,
      "outputs": []
    },
    {
      "cell_type": "markdown",
      "source": [
        "# Fonte de dados\n",
        "\n",
        "Com intuito de executar o projeto de maneira mais rápida e simples vamos  utilizar como fonte de dados um dataset em formato csv extraido do kaggle que pode ser encontrado no link : https://www.kaggle.com/datasets/dienert/vendas\n",
        "\n",
        "Faça o download, extraia o arquivo \"tudo.csv\" e cole dentro da pasta raiz \"Arquivos\" em seu colab, em seguida iremos visualizar o conteudo."
      ],
      "metadata": {
        "id": "FrBDKs7k9W48"
      }
    },
    {
      "cell_type": "code",
      "source": [
        "df = pd.read_csv(\"tudo.csv\")"
      ],
      "metadata": {
        "id": "HfGRlgeB_hHh"
      },
      "execution_count": 11,
      "outputs": []
    },
    {
      "cell_type": "code",
      "source": [
        "df"
      ],
      "metadata": {
        "colab": {
          "base_uri": "https://localhost:8080/",
          "height": 597
        },
        "id": "87JjnNMRCQHU",
        "outputId": "b757605c-3900-44b1-f1b7-955caf9ca842"
      },
      "execution_count": 12,
      "outputs": [
        {
          "output_type": "execute_result",
          "data": {
            "text/plain": [
              "                    name                               sale_id  product_id  \\\n",
              "0           Mason Howell  442bc2f0-22d3-3c8a-9f71-0f9c16cee0b2         296   \n",
              "1           Mason Howell  442bc2f0-22d3-3c8a-9f71-0f9c16cee0b2         296   \n",
              "2           Mason Howell  442bc2f0-22d3-3c8a-9f71-0f9c16cee0b2         296   \n",
              "3           Mason Howell  442bc2f0-22d3-3c8a-9f71-0f9c16cee0b2         296   \n",
              "4           Mason Howell  442bc2f0-22d3-3c8a-9f71-0f9c16cee0b2         296   \n",
              "...                  ...                                   ...         ...   \n",
              "44495  Ashlynn Jaskolski  3d9d0fd1-0406-3ee8-84ee-5a29be946b2b         235   \n",
              "44496  Miss Krista Kuhic  c9b46a89-e252-3e69-9b4c-d2a1f7bd86e8         235   \n",
              "44497  Miss Krista Kuhic  c9b46a89-e252-3e69-9b4c-d2a1f7bd86e8         235   \n",
              "44498  Miss Krista Kuhic  c9b46a89-e252-3e69-9b4c-d2a1f7bd86e8         235   \n",
              "44499  Miss Krista Kuhic  c9b46a89-e252-3e69-9b4c-d2a1f7bd86e8         235   \n",
              "\n",
              "            product   price_y  quantity   price_x                 created_at  \\\n",
              "0         Lang Club   866.694   3.89990  2433.800  1997-09-17 21:50:14+00:00   \n",
              "1         Lang Club   866.694   4.00000  1196.580  1997-09-17 21:50:14+00:00   \n",
              "2         Lang Club   866.694   1.38452  1975.000  1997-09-17 21:50:14+00:00   \n",
              "3         Lang Club   866.694   2.22500   119.526  1997-09-17 21:50:14+00:00   \n",
              "4         Lang Club   866.694   2.89000  2386.940  1997-09-17 21:50:14+00:00   \n",
              "...             ...       ...       ...       ...                        ...   \n",
              "44495  Roselyn Road  3366.300   3.00000  3455.700  2019-12-10 02:43:34+00:00   \n",
              "44496  Roselyn Road  3366.300   2.45209  1896.100  1981-03-17 13:05:45+00:00   \n",
              "44497  Roselyn Road  3366.300   3.08220  3997.900  1981-03-17 13:05:45+00:00   \n",
              "44498  Roselyn Road  3366.300   1.00000  2695.000  1981-03-17 13:05:45+00:00   \n",
              "44499  Roselyn Road  3366.300   2.17575  1267.550  1981-03-17 13:05:45+00:00   \n",
              "\n",
              "                      updated_at                         email  \n",
              "0      2007-02-15 19:34:06+00:00      jessica.cole@example.net  \n",
              "1      2007-02-15 19:34:06+00:00      jessica.cole@example.net  \n",
              "2      2007-02-15 19:34:06+00:00      jessica.cole@example.net  \n",
              "3      2007-02-15 19:34:06+00:00      jessica.cole@example.net  \n",
              "4      2007-02-15 19:34:06+00:00      jessica.cole@example.net  \n",
              "...                          ...                           ...  \n",
              "44495  1981-04-24 06:20:37+00:00   leffler.mafalda@example.net  \n",
              "44496  1986-06-24 12:35:27+00:00  leland.vonrueden@example.net  \n",
              "44497  1986-06-24 12:35:27+00:00  leland.vonrueden@example.net  \n",
              "44498  1986-06-24 12:35:27+00:00  leland.vonrueden@example.net  \n",
              "44499  1986-06-24 12:35:27+00:00  leland.vonrueden@example.net  \n",
              "\n",
              "[44500 rows x 10 columns]"
            ],
            "text/html": [
              "\n",
              "  <div id=\"df-940e807e-b2f8-436a-9bc8-960ebdd110ba\" class=\"colab-df-container\">\n",
              "    <div>\n",
              "<style scoped>\n",
              "    .dataframe tbody tr th:only-of-type {\n",
              "        vertical-align: middle;\n",
              "    }\n",
              "\n",
              "    .dataframe tbody tr th {\n",
              "        vertical-align: top;\n",
              "    }\n",
              "\n",
              "    .dataframe thead th {\n",
              "        text-align: right;\n",
              "    }\n",
              "</style>\n",
              "<table border=\"1\" class=\"dataframe\">\n",
              "  <thead>\n",
              "    <tr style=\"text-align: right;\">\n",
              "      <th></th>\n",
              "      <th>name</th>\n",
              "      <th>sale_id</th>\n",
              "      <th>product_id</th>\n",
              "      <th>product</th>\n",
              "      <th>price_y</th>\n",
              "      <th>quantity</th>\n",
              "      <th>price_x</th>\n",
              "      <th>created_at</th>\n",
              "      <th>updated_at</th>\n",
              "      <th>email</th>\n",
              "    </tr>\n",
              "  </thead>\n",
              "  <tbody>\n",
              "    <tr>\n",
              "      <th>0</th>\n",
              "      <td>Mason Howell</td>\n",
              "      <td>442bc2f0-22d3-3c8a-9f71-0f9c16cee0b2</td>\n",
              "      <td>296</td>\n",
              "      <td>Lang Club</td>\n",
              "      <td>866.694</td>\n",
              "      <td>3.89990</td>\n",
              "      <td>2433.800</td>\n",
              "      <td>1997-09-17 21:50:14+00:00</td>\n",
              "      <td>2007-02-15 19:34:06+00:00</td>\n",
              "      <td>jessica.cole@example.net</td>\n",
              "    </tr>\n",
              "    <tr>\n",
              "      <th>1</th>\n",
              "      <td>Mason Howell</td>\n",
              "      <td>442bc2f0-22d3-3c8a-9f71-0f9c16cee0b2</td>\n",
              "      <td>296</td>\n",
              "      <td>Lang Club</td>\n",
              "      <td>866.694</td>\n",
              "      <td>4.00000</td>\n",
              "      <td>1196.580</td>\n",
              "      <td>1997-09-17 21:50:14+00:00</td>\n",
              "      <td>2007-02-15 19:34:06+00:00</td>\n",
              "      <td>jessica.cole@example.net</td>\n",
              "    </tr>\n",
              "    <tr>\n",
              "      <th>2</th>\n",
              "      <td>Mason Howell</td>\n",
              "      <td>442bc2f0-22d3-3c8a-9f71-0f9c16cee0b2</td>\n",
              "      <td>296</td>\n",
              "      <td>Lang Club</td>\n",
              "      <td>866.694</td>\n",
              "      <td>1.38452</td>\n",
              "      <td>1975.000</td>\n",
              "      <td>1997-09-17 21:50:14+00:00</td>\n",
              "      <td>2007-02-15 19:34:06+00:00</td>\n",
              "      <td>jessica.cole@example.net</td>\n",
              "    </tr>\n",
              "    <tr>\n",
              "      <th>3</th>\n",
              "      <td>Mason Howell</td>\n",
              "      <td>442bc2f0-22d3-3c8a-9f71-0f9c16cee0b2</td>\n",
              "      <td>296</td>\n",
              "      <td>Lang Club</td>\n",
              "      <td>866.694</td>\n",
              "      <td>2.22500</td>\n",
              "      <td>119.526</td>\n",
              "      <td>1997-09-17 21:50:14+00:00</td>\n",
              "      <td>2007-02-15 19:34:06+00:00</td>\n",
              "      <td>jessica.cole@example.net</td>\n",
              "    </tr>\n",
              "    <tr>\n",
              "      <th>4</th>\n",
              "      <td>Mason Howell</td>\n",
              "      <td>442bc2f0-22d3-3c8a-9f71-0f9c16cee0b2</td>\n",
              "      <td>296</td>\n",
              "      <td>Lang Club</td>\n",
              "      <td>866.694</td>\n",
              "      <td>2.89000</td>\n",
              "      <td>2386.940</td>\n",
              "      <td>1997-09-17 21:50:14+00:00</td>\n",
              "      <td>2007-02-15 19:34:06+00:00</td>\n",
              "      <td>jessica.cole@example.net</td>\n",
              "    </tr>\n",
              "    <tr>\n",
              "      <th>...</th>\n",
              "      <td>...</td>\n",
              "      <td>...</td>\n",
              "      <td>...</td>\n",
              "      <td>...</td>\n",
              "      <td>...</td>\n",
              "      <td>...</td>\n",
              "      <td>...</td>\n",
              "      <td>...</td>\n",
              "      <td>...</td>\n",
              "      <td>...</td>\n",
              "    </tr>\n",
              "    <tr>\n",
              "      <th>44495</th>\n",
              "      <td>Ashlynn Jaskolski</td>\n",
              "      <td>3d9d0fd1-0406-3ee8-84ee-5a29be946b2b</td>\n",
              "      <td>235</td>\n",
              "      <td>Roselyn Road</td>\n",
              "      <td>3366.300</td>\n",
              "      <td>3.00000</td>\n",
              "      <td>3455.700</td>\n",
              "      <td>2019-12-10 02:43:34+00:00</td>\n",
              "      <td>1981-04-24 06:20:37+00:00</td>\n",
              "      <td>leffler.mafalda@example.net</td>\n",
              "    </tr>\n",
              "    <tr>\n",
              "      <th>44496</th>\n",
              "      <td>Miss Krista Kuhic</td>\n",
              "      <td>c9b46a89-e252-3e69-9b4c-d2a1f7bd86e8</td>\n",
              "      <td>235</td>\n",
              "      <td>Roselyn Road</td>\n",
              "      <td>3366.300</td>\n",
              "      <td>2.45209</td>\n",
              "      <td>1896.100</td>\n",
              "      <td>1981-03-17 13:05:45+00:00</td>\n",
              "      <td>1986-06-24 12:35:27+00:00</td>\n",
              "      <td>leland.vonrueden@example.net</td>\n",
              "    </tr>\n",
              "    <tr>\n",
              "      <th>44497</th>\n",
              "      <td>Miss Krista Kuhic</td>\n",
              "      <td>c9b46a89-e252-3e69-9b4c-d2a1f7bd86e8</td>\n",
              "      <td>235</td>\n",
              "      <td>Roselyn Road</td>\n",
              "      <td>3366.300</td>\n",
              "      <td>3.08220</td>\n",
              "      <td>3997.900</td>\n",
              "      <td>1981-03-17 13:05:45+00:00</td>\n",
              "      <td>1986-06-24 12:35:27+00:00</td>\n",
              "      <td>leland.vonrueden@example.net</td>\n",
              "    </tr>\n",
              "    <tr>\n",
              "      <th>44498</th>\n",
              "      <td>Miss Krista Kuhic</td>\n",
              "      <td>c9b46a89-e252-3e69-9b4c-d2a1f7bd86e8</td>\n",
              "      <td>235</td>\n",
              "      <td>Roselyn Road</td>\n",
              "      <td>3366.300</td>\n",
              "      <td>1.00000</td>\n",
              "      <td>2695.000</td>\n",
              "      <td>1981-03-17 13:05:45+00:00</td>\n",
              "      <td>1986-06-24 12:35:27+00:00</td>\n",
              "      <td>leland.vonrueden@example.net</td>\n",
              "    </tr>\n",
              "    <tr>\n",
              "      <th>44499</th>\n",
              "      <td>Miss Krista Kuhic</td>\n",
              "      <td>c9b46a89-e252-3e69-9b4c-d2a1f7bd86e8</td>\n",
              "      <td>235</td>\n",
              "      <td>Roselyn Road</td>\n",
              "      <td>3366.300</td>\n",
              "      <td>2.17575</td>\n",
              "      <td>1267.550</td>\n",
              "      <td>1981-03-17 13:05:45+00:00</td>\n",
              "      <td>1986-06-24 12:35:27+00:00</td>\n",
              "      <td>leland.vonrueden@example.net</td>\n",
              "    </tr>\n",
              "  </tbody>\n",
              "</table>\n",
              "<p>44500 rows × 10 columns</p>\n",
              "</div>\n",
              "    <div class=\"colab-df-buttons\">\n",
              "\n",
              "  <div class=\"colab-df-container\">\n",
              "    <button class=\"colab-df-convert\" onclick=\"convertToInteractive('df-940e807e-b2f8-436a-9bc8-960ebdd110ba')\"\n",
              "            title=\"Convert this dataframe to an interactive table.\"\n",
              "            style=\"display:none;\">\n",
              "\n",
              "  <svg xmlns=\"http://www.w3.org/2000/svg\" height=\"24px\" viewBox=\"0 -960 960 960\">\n",
              "    <path d=\"M120-120v-720h720v720H120Zm60-500h600v-160H180v160Zm220 220h160v-160H400v160Zm0 220h160v-160H400v160ZM180-400h160v-160H180v160Zm440 0h160v-160H620v160ZM180-180h160v-160H180v160Zm440 0h160v-160H620v160Z\"/>\n",
              "  </svg>\n",
              "    </button>\n",
              "\n",
              "  <style>\n",
              "    .colab-df-container {\n",
              "      display:flex;\n",
              "      gap: 12px;\n",
              "    }\n",
              "\n",
              "    .colab-df-convert {\n",
              "      background-color: #E8F0FE;\n",
              "      border: none;\n",
              "      border-radius: 50%;\n",
              "      cursor: pointer;\n",
              "      display: none;\n",
              "      fill: #1967D2;\n",
              "      height: 32px;\n",
              "      padding: 0 0 0 0;\n",
              "      width: 32px;\n",
              "    }\n",
              "\n",
              "    .colab-df-convert:hover {\n",
              "      background-color: #E2EBFA;\n",
              "      box-shadow: 0px 1px 2px rgba(60, 64, 67, 0.3), 0px 1px 3px 1px rgba(60, 64, 67, 0.15);\n",
              "      fill: #174EA6;\n",
              "    }\n",
              "\n",
              "    .colab-df-buttons div {\n",
              "      margin-bottom: 4px;\n",
              "    }\n",
              "\n",
              "    [theme=dark] .colab-df-convert {\n",
              "      background-color: #3B4455;\n",
              "      fill: #D2E3FC;\n",
              "    }\n",
              "\n",
              "    [theme=dark] .colab-df-convert:hover {\n",
              "      background-color: #434B5C;\n",
              "      box-shadow: 0px 1px 3px 1px rgba(0, 0, 0, 0.15);\n",
              "      filter: drop-shadow(0px 1px 2px rgba(0, 0, 0, 0.3));\n",
              "      fill: #FFFFFF;\n",
              "    }\n",
              "  </style>\n",
              "\n",
              "    <script>\n",
              "      const buttonEl =\n",
              "        document.querySelector('#df-940e807e-b2f8-436a-9bc8-960ebdd110ba button.colab-df-convert');\n",
              "      buttonEl.style.display =\n",
              "        google.colab.kernel.accessAllowed ? 'block' : 'none';\n",
              "\n",
              "      async function convertToInteractive(key) {\n",
              "        const element = document.querySelector('#df-940e807e-b2f8-436a-9bc8-960ebdd110ba');\n",
              "        const dataTable =\n",
              "          await google.colab.kernel.invokeFunction('convertToInteractive',\n",
              "                                                    [key], {});\n",
              "        if (!dataTable) return;\n",
              "\n",
              "        const docLinkHtml = 'Like what you see? Visit the ' +\n",
              "          '<a target=\"_blank\" href=https://colab.research.google.com/notebooks/data_table.ipynb>data table notebook</a>'\n",
              "          + ' to learn more about interactive tables.';\n",
              "        element.innerHTML = '';\n",
              "        dataTable['output_type'] = 'display_data';\n",
              "        await google.colab.output.renderOutput(dataTable, element);\n",
              "        const docLink = document.createElement('div');\n",
              "        docLink.innerHTML = docLinkHtml;\n",
              "        element.appendChild(docLink);\n",
              "      }\n",
              "    </script>\n",
              "  </div>\n",
              "\n",
              "\n",
              "<div id=\"df-3d72a13b-9f98-4c40-8492-8b4955a078ff\">\n",
              "  <button class=\"colab-df-quickchart\" onclick=\"quickchart('df-3d72a13b-9f98-4c40-8492-8b4955a078ff')\"\n",
              "            title=\"Suggest charts\"\n",
              "            style=\"display:none;\">\n",
              "\n",
              "<svg xmlns=\"http://www.w3.org/2000/svg\" height=\"24px\"viewBox=\"0 0 24 24\"\n",
              "     width=\"24px\">\n",
              "    <g>\n",
              "        <path d=\"M19 3H5c-1.1 0-2 .9-2 2v14c0 1.1.9 2 2 2h14c1.1 0 2-.9 2-2V5c0-1.1-.9-2-2-2zM9 17H7v-7h2v7zm4 0h-2V7h2v10zm4 0h-2v-4h2v4z\"/>\n",
              "    </g>\n",
              "</svg>\n",
              "  </button>\n",
              "\n",
              "<style>\n",
              "  .colab-df-quickchart {\n",
              "      --bg-color: #E8F0FE;\n",
              "      --fill-color: #1967D2;\n",
              "      --hover-bg-color: #E2EBFA;\n",
              "      --hover-fill-color: #174EA6;\n",
              "      --disabled-fill-color: #AAA;\n",
              "      --disabled-bg-color: #DDD;\n",
              "  }\n",
              "\n",
              "  [theme=dark] .colab-df-quickchart {\n",
              "      --bg-color: #3B4455;\n",
              "      --fill-color: #D2E3FC;\n",
              "      --hover-bg-color: #434B5C;\n",
              "      --hover-fill-color: #FFFFFF;\n",
              "      --disabled-bg-color: #3B4455;\n",
              "      --disabled-fill-color: #666;\n",
              "  }\n",
              "\n",
              "  .colab-df-quickchart {\n",
              "    background-color: var(--bg-color);\n",
              "    border: none;\n",
              "    border-radius: 50%;\n",
              "    cursor: pointer;\n",
              "    display: none;\n",
              "    fill: var(--fill-color);\n",
              "    height: 32px;\n",
              "    padding: 0;\n",
              "    width: 32px;\n",
              "  }\n",
              "\n",
              "  .colab-df-quickchart:hover {\n",
              "    background-color: var(--hover-bg-color);\n",
              "    box-shadow: 0 1px 2px rgba(60, 64, 67, 0.3), 0 1px 3px 1px rgba(60, 64, 67, 0.15);\n",
              "    fill: var(--button-hover-fill-color);\n",
              "  }\n",
              "\n",
              "  .colab-df-quickchart-complete:disabled,\n",
              "  .colab-df-quickchart-complete:disabled:hover {\n",
              "    background-color: var(--disabled-bg-color);\n",
              "    fill: var(--disabled-fill-color);\n",
              "    box-shadow: none;\n",
              "  }\n",
              "\n",
              "  .colab-df-spinner {\n",
              "    border: 2px solid var(--fill-color);\n",
              "    border-color: transparent;\n",
              "    border-bottom-color: var(--fill-color);\n",
              "    animation:\n",
              "      spin 1s steps(1) infinite;\n",
              "  }\n",
              "\n",
              "  @keyframes spin {\n",
              "    0% {\n",
              "      border-color: transparent;\n",
              "      border-bottom-color: var(--fill-color);\n",
              "      border-left-color: var(--fill-color);\n",
              "    }\n",
              "    20% {\n",
              "      border-color: transparent;\n",
              "      border-left-color: var(--fill-color);\n",
              "      border-top-color: var(--fill-color);\n",
              "    }\n",
              "    30% {\n",
              "      border-color: transparent;\n",
              "      border-left-color: var(--fill-color);\n",
              "      border-top-color: var(--fill-color);\n",
              "      border-right-color: var(--fill-color);\n",
              "    }\n",
              "    40% {\n",
              "      border-color: transparent;\n",
              "      border-right-color: var(--fill-color);\n",
              "      border-top-color: var(--fill-color);\n",
              "    }\n",
              "    60% {\n",
              "      border-color: transparent;\n",
              "      border-right-color: var(--fill-color);\n",
              "    }\n",
              "    80% {\n",
              "      border-color: transparent;\n",
              "      border-right-color: var(--fill-color);\n",
              "      border-bottom-color: var(--fill-color);\n",
              "    }\n",
              "    90% {\n",
              "      border-color: transparent;\n",
              "      border-bottom-color: var(--fill-color);\n",
              "    }\n",
              "  }\n",
              "</style>\n",
              "\n",
              "  <script>\n",
              "    async function quickchart(key) {\n",
              "      const quickchartButtonEl =\n",
              "        document.querySelector('#' + key + ' button');\n",
              "      quickchartButtonEl.disabled = true;  // To prevent multiple clicks.\n",
              "      quickchartButtonEl.classList.add('colab-df-spinner');\n",
              "      try {\n",
              "        const charts = await google.colab.kernel.invokeFunction(\n",
              "            'suggestCharts', [key], {});\n",
              "      } catch (error) {\n",
              "        console.error('Error during call to suggestCharts:', error);\n",
              "      }\n",
              "      quickchartButtonEl.classList.remove('colab-df-spinner');\n",
              "      quickchartButtonEl.classList.add('colab-df-quickchart-complete');\n",
              "    }\n",
              "    (() => {\n",
              "      let quickchartButtonEl =\n",
              "        document.querySelector('#df-3d72a13b-9f98-4c40-8492-8b4955a078ff button');\n",
              "      quickchartButtonEl.style.display =\n",
              "        google.colab.kernel.accessAllowed ? 'block' : 'none';\n",
              "    })();\n",
              "  </script>\n",
              "</div>\n",
              "\n",
              "  <div id=\"id_2f976972-b39f-463e-b4a3-045f6c9f3033\">\n",
              "    <style>\n",
              "      .colab-df-generate {\n",
              "        background-color: #E8F0FE;\n",
              "        border: none;\n",
              "        border-radius: 50%;\n",
              "        cursor: pointer;\n",
              "        display: none;\n",
              "        fill: #1967D2;\n",
              "        height: 32px;\n",
              "        padding: 0 0 0 0;\n",
              "        width: 32px;\n",
              "      }\n",
              "\n",
              "      .colab-df-generate:hover {\n",
              "        background-color: #E2EBFA;\n",
              "        box-shadow: 0px 1px 2px rgba(60, 64, 67, 0.3), 0px 1px 3px 1px rgba(60, 64, 67, 0.15);\n",
              "        fill: #174EA6;\n",
              "      }\n",
              "\n",
              "      [theme=dark] .colab-df-generate {\n",
              "        background-color: #3B4455;\n",
              "        fill: #D2E3FC;\n",
              "      }\n",
              "\n",
              "      [theme=dark] .colab-df-generate:hover {\n",
              "        background-color: #434B5C;\n",
              "        box-shadow: 0px 1px 3px 1px rgba(0, 0, 0, 0.15);\n",
              "        filter: drop-shadow(0px 1px 2px rgba(0, 0, 0, 0.3));\n",
              "        fill: #FFFFFF;\n",
              "      }\n",
              "    </style>\n",
              "    <button class=\"colab-df-generate\" onclick=\"generateWithVariable('df')\"\n",
              "            title=\"Generate code using this dataframe.\"\n",
              "            style=\"display:none;\">\n",
              "\n",
              "  <svg xmlns=\"http://www.w3.org/2000/svg\" height=\"24px\"viewBox=\"0 0 24 24\"\n",
              "       width=\"24px\">\n",
              "    <path d=\"M7,19H8.4L18.45,9,17,7.55,7,17.6ZM5,21V16.75L18.45,3.32a2,2,0,0,1,2.83,0l1.4,1.43a1.91,1.91,0,0,1,.58,1.4,1.91,1.91,0,0,1-.58,1.4L9.25,21ZM18.45,9,17,7.55Zm-12,3A5.31,5.31,0,0,0,4.9,8.1,5.31,5.31,0,0,0,1,6.5,5.31,5.31,0,0,0,4.9,4.9,5.31,5.31,0,0,0,6.5,1,5.31,5.31,0,0,0,8.1,4.9,5.31,5.31,0,0,0,12,6.5,5.46,5.46,0,0,0,6.5,12Z\"/>\n",
              "  </svg>\n",
              "    </button>\n",
              "    <script>\n",
              "      (() => {\n",
              "      const buttonEl =\n",
              "        document.querySelector('#id_2f976972-b39f-463e-b4a3-045f6c9f3033 button.colab-df-generate');\n",
              "      buttonEl.style.display =\n",
              "        google.colab.kernel.accessAllowed ? 'block' : 'none';\n",
              "\n",
              "      buttonEl.onclick = () => {\n",
              "        google.colab.notebook.generateWithVariable('df');\n",
              "      }\n",
              "      })();\n",
              "    </script>\n",
              "  </div>\n",
              "\n",
              "    </div>\n",
              "  </div>\n"
            ],
            "application/vnd.google.colaboratory.intrinsic+json": {
              "type": "dataframe",
              "variable_name": "df",
              "summary": "{\n  \"name\": \"df\",\n  \"rows\": 44500,\n  \"fields\": [\n    {\n      \"column\": \"name\",\n      \"properties\": {\n        \"dtype\": \"category\",\n        \"num_unique_values\": 3998,\n        \"samples\": [\n          \"Miss Clare Botsford III\",\n          \"Elvie McKenzie II\",\n          \"Prof. Kale Kozey\"\n        ],\n        \"semantic_type\": \"\",\n        \"description\": \"\"\n      }\n    },\n    {\n      \"column\": \"sale_id\",\n      \"properties\": {\n        \"dtype\": \"category\",\n        \"num_unique_values\": 10000,\n        \"samples\": [\n          \"194d847d-59b4-381e-a3b6-7d4a1ef49b18\",\n          \"44f3c733-59dc-3f4b-b887-468003864c7b\",\n          \"b7c09fc9-e0b5-304b-b4ae-a3cbc2d1a465\"\n        ],\n        \"semantic_type\": \"\",\n        \"description\": \"\"\n      }\n    },\n    {\n      \"column\": \"product_id\",\n      \"properties\": {\n        \"dtype\": \"number\",\n        \"std\": 57,\n        \"min\": 201,\n        \"max\": 400,\n        \"num_unique_values\": 200,\n        \"samples\": [\n          213,\n          272,\n          340\n        ],\n        \"semantic_type\": \"\",\n        \"description\": \"\"\n      }\n    },\n    {\n      \"column\": \"product\",\n      \"properties\": {\n        \"dtype\": \"category\",\n        \"num_unique_values\": 200,\n        \"samples\": [\n          \"Mollie Cape\",\n          \"Edwardo Harbor\",\n          \"Torphy Roads\"\n        ],\n        \"semantic_type\": \"\",\n        \"description\": \"\"\n      }\n    },\n    {\n      \"column\": \"price_y\",\n      \"properties\": {\n        \"dtype\": \"number\",\n        \"std\": 1144.833746062642,\n        \"min\": 58.0,\n        \"max\": 3982.34,\n        \"num_unique_values\": 200,\n        \"samples\": [\n          3881.96,\n          2440.25,\n          2198.79\n        ],\n        \"semantic_type\": \"\",\n        \"description\": \"\"\n      }\n    },\n    {\n      \"column\": \"quantity\",\n      \"properties\": {\n        \"dtype\": \"number\",\n        \"std\": 1.4466760637131097,\n        \"min\": 0.0,\n        \"max\": 5.0,\n        \"num_unique_values\": 28749,\n        \"samples\": [\n          4.1317,\n          2.70306,\n          2.94869\n        ],\n        \"semantic_type\": \"\",\n        \"description\": \"\"\n      }\n    },\n    {\n      \"column\": \"price_x\",\n      \"properties\": {\n        \"dtype\": \"number\",\n        \"std\": 1155.4517435313164,\n        \"min\": 0.0558179,\n        \"max\": 4000.0,\n        \"num_unique_values\": 40600,\n        \"samples\": [\n          1304.87,\n          3834.83,\n          1075.89\n        ],\n        \"semantic_type\": \"\",\n        \"description\": \"\"\n      }\n    },\n    {\n      \"column\": \"created_at\",\n      \"properties\": {\n        \"dtype\": \"object\",\n        \"num_unique_values\": 10000,\n        \"samples\": [\n          \"1970-02-06 13:45:30+00:00\",\n          \"1986-04-11 01:24:58+00:00\",\n          \"2008-10-07 13:19:36+00:00\"\n        ],\n        \"semantic_type\": \"\",\n        \"description\": \"\"\n      }\n    },\n    {\n      \"column\": \"updated_at\",\n      \"properties\": {\n        \"dtype\": \"object\",\n        \"num_unique_values\": 10000,\n        \"samples\": [\n          \"1989-08-08 01:18:30+00:00\",\n          \"1992-12-15 12:52:16+00:00\",\n          \"1984-05-29 08:32:20+00:00\"\n        ],\n        \"semantic_type\": \"\",\n        \"description\": \"\"\n      }\n    },\n    {\n      \"column\": \"email\",\n      \"properties\": {\n        \"dtype\": \"category\",\n        \"num_unique_values\": 4000,\n        \"samples\": [\n          \"jaida.schaden@example.com\",\n          \"collins.kaylin@example.org\",\n          \"pnolan@example.com\"\n        ],\n        \"semantic_type\": \"\",\n        \"description\": \"\"\n      }\n    }\n  ]\n}"
            }
          },
          "metadata": {},
          "execution_count": 12
        }
      ]
    },
    {
      "cell_type": "markdown",
      "source": [
        "# Configuração do Banco de dados SQL\n",
        "\n",
        "Utilizando python iremos criar um banco de dados sql em memória, e criar uma tabela para os dados da nossa fonte."
      ],
      "metadata": {
        "id": "VH7-7d3cE2Mb"
      }
    },
    {
      "cell_type": "code",
      "source": [
        "from sqlalchemy import create_engine\n",
        "from sqlalchemy import text"
      ],
      "metadata": {
        "id": "AKaqMlt9E1Iv"
      },
      "execution_count": 14,
      "outputs": []
    },
    {
      "cell_type": "code",
      "source": [
        "database_temp = create_engine('sqlite:///:memory:', echo=True)"
      ],
      "metadata": {
        "id": "wLvVezyiFqqI"
      },
      "execution_count": 15,
      "outputs": []
    },
    {
      "cell_type": "markdown",
      "source": [
        "Agora iremos inserir nossos dados em uma tabela chamada Sales"
      ],
      "metadata": {
        "id": "zchUQYFAFyVd"
      }
    },
    {
      "cell_type": "code",
      "source": [
        "data = df.to_sql(name=\"Sales\", con=database_temp)"
      ],
      "metadata": {
        "colab": {
          "base_uri": "https://localhost:8080/"
        },
        "id": "5D74FrqhFxcC",
        "outputId": "1bb440da-8c11-432b-f27f-3a91d63eac50"
      },
      "execution_count": 16,
      "outputs": [
        {
          "output_type": "stream",
          "name": "stdout",
          "text": [
            "2024-05-10 15:25:14,264 INFO sqlalchemy.engine.Engine BEGIN (implicit)\n"
          ]
        },
        {
          "output_type": "stream",
          "name": "stderr",
          "text": [
            "INFO:sqlalchemy.engine.Engine:BEGIN (implicit)\n"
          ]
        },
        {
          "output_type": "stream",
          "name": "stdout",
          "text": [
            "2024-05-10 15:25:14,281 INFO sqlalchemy.engine.Engine PRAGMA main.table_info(\"Sales\")\n"
          ]
        },
        {
          "output_type": "stream",
          "name": "stderr",
          "text": [
            "INFO:sqlalchemy.engine.Engine:PRAGMA main.table_info(\"Sales\")\n"
          ]
        },
        {
          "output_type": "stream",
          "name": "stdout",
          "text": [
            "2024-05-10 15:25:14,285 INFO sqlalchemy.engine.Engine [raw sql] ()\n"
          ]
        },
        {
          "output_type": "stream",
          "name": "stderr",
          "text": [
            "INFO:sqlalchemy.engine.Engine:[raw sql] ()\n"
          ]
        },
        {
          "output_type": "stream",
          "name": "stdout",
          "text": [
            "2024-05-10 15:25:14,290 INFO sqlalchemy.engine.Engine PRAGMA temp.table_info(\"Sales\")\n"
          ]
        },
        {
          "output_type": "stream",
          "name": "stderr",
          "text": [
            "INFO:sqlalchemy.engine.Engine:PRAGMA temp.table_info(\"Sales\")\n"
          ]
        },
        {
          "output_type": "stream",
          "name": "stdout",
          "text": [
            "2024-05-10 15:25:14,293 INFO sqlalchemy.engine.Engine [raw sql] ()\n"
          ]
        },
        {
          "output_type": "stream",
          "name": "stderr",
          "text": [
            "INFO:sqlalchemy.engine.Engine:[raw sql] ()\n"
          ]
        },
        {
          "output_type": "stream",
          "name": "stdout",
          "text": [
            "2024-05-10 15:25:14,298 INFO sqlalchemy.engine.Engine \n",
            "CREATE TABLE \"Sales\" (\n",
            "\t\"index\" BIGINT, \n",
            "\tname TEXT, \n",
            "\tsale_id TEXT, \n",
            "\tproduct_id BIGINT, \n",
            "\tproduct TEXT, \n",
            "\tprice_y FLOAT, \n",
            "\tquantity FLOAT, \n",
            "\tprice_x FLOAT, \n",
            "\tcreated_at TEXT, \n",
            "\tupdated_at TEXT, \n",
            "\temail TEXT\n",
            ")\n",
            "\n",
            "\n"
          ]
        },
        {
          "output_type": "stream",
          "name": "stderr",
          "text": [
            "INFO:sqlalchemy.engine.Engine:\n",
            "CREATE TABLE \"Sales\" (\n",
            "\t\"index\" BIGINT, \n",
            "\tname TEXT, \n",
            "\tsale_id TEXT, \n",
            "\tproduct_id BIGINT, \n",
            "\tproduct TEXT, \n",
            "\tprice_y FLOAT, \n",
            "\tquantity FLOAT, \n",
            "\tprice_x FLOAT, \n",
            "\tcreated_at TEXT, \n",
            "\tupdated_at TEXT, \n",
            "\temail TEXT\n",
            ")\n",
            "\n",
            "\n"
          ]
        },
        {
          "output_type": "stream",
          "name": "stdout",
          "text": [
            "2024-05-10 15:25:14,301 INFO sqlalchemy.engine.Engine [no key 0.00328s] ()\n"
          ]
        },
        {
          "output_type": "stream",
          "name": "stderr",
          "text": [
            "INFO:sqlalchemy.engine.Engine:[no key 0.00328s] ()\n"
          ]
        },
        {
          "output_type": "stream",
          "name": "stdout",
          "text": [
            "2024-05-10 15:25:14,304 INFO sqlalchemy.engine.Engine CREATE INDEX \"ix_Sales_index\" ON \"Sales\" (\"index\")\n"
          ]
        },
        {
          "output_type": "stream",
          "name": "stderr",
          "text": [
            "INFO:sqlalchemy.engine.Engine:CREATE INDEX \"ix_Sales_index\" ON \"Sales\" (\"index\")\n"
          ]
        },
        {
          "output_type": "stream",
          "name": "stdout",
          "text": [
            "2024-05-10 15:25:14,306 INFO sqlalchemy.engine.Engine [no key 0.00228s] ()\n"
          ]
        },
        {
          "output_type": "stream",
          "name": "stderr",
          "text": [
            "INFO:sqlalchemy.engine.Engine:[no key 0.00228s] ()\n"
          ]
        },
        {
          "output_type": "stream",
          "name": "stdout",
          "text": [
            "2024-05-10 15:25:14,919 INFO sqlalchemy.engine.Engine INSERT INTO \"Sales\" (\"index\", name, sale_id, product_id, product, price_y, quantity, price_x, created_at, updated_at, email) VALUES (?, ?, ?, ?, ?, ?, ?, ?, ?, ?, ?)\n"
          ]
        },
        {
          "output_type": "stream",
          "name": "stderr",
          "text": [
            "INFO:sqlalchemy.engine.Engine:INSERT INTO \"Sales\" (\"index\", name, sale_id, product_id, product, price_y, quantity, price_x, created_at, updated_at, email) VALUES (?, ?, ?, ?, ?, ?, ?, ?, ?, ?, ?)\n"
          ]
        },
        {
          "output_type": "stream",
          "name": "stdout",
          "text": [
            "2024-05-10 15:25:14,924 INFO sqlalchemy.engine.Engine [generated in 0.47174s] [(0, 'Mason Howell', '442bc2f0-22d3-3c8a-9f71-0f9c16cee0b2', 296, 'Lang Club', 866.694, 3.8999, 2433.8, '1997-09-17 21:50:14+00:00', '2007-02-15 19:34:06+00:00', 'jessica.cole@example.net'), (1, 'Mason Howell', '442bc2f0-22d3-3c8a-9f71-0f9c16cee0b2', 296, 'Lang Club', 866.694, 4.0, 1196.58, '1997-09-17 21:50:14+00:00', '2007-02-15 19:34:06+00:00', 'jessica.cole@example.net'), (2, 'Mason Howell', '442bc2f0-22d3-3c8a-9f71-0f9c16cee0b2', 296, 'Lang Club', 866.694, 1.38452, 1975.0, '1997-09-17 21:50:14+00:00', '2007-02-15 19:34:06+00:00', 'jessica.cole@example.net'), (3, 'Mason Howell', '442bc2f0-22d3-3c8a-9f71-0f9c16cee0b2', 296, 'Lang Club', 866.694, 2.225, 119.526, '1997-09-17 21:50:14+00:00', '2007-02-15 19:34:06+00:00', 'jessica.cole@example.net'), (4, 'Mason Howell', '442bc2f0-22d3-3c8a-9f71-0f9c16cee0b2', 296, 'Lang Club', 866.694, 2.89, 2386.94, '1997-09-17 21:50:14+00:00', '2007-02-15 19:34:06+00:00', 'jessica.cole@example.net'), (5, 'Miss Sheila Lehner Jr.', '77aa9946-a96d-373c-a227-d63bc1afcc90', 296, 'Lang Club', 866.694, 0.0451353, 172.68, '1999-08-19 03:22:44+00:00', '2017-07-30 09:27:02+00:00', 'becker.beatrice@example.com'), (6, 'Miss Sheila Lehner Jr.', '77aa9946-a96d-373c-a227-d63bc1afcc90', 296, 'Lang Club', 866.694, 3.0, 959.38, '1999-08-19 03:22:44+00:00', '2017-07-30 09:27:02+00:00', 'becker.beatrice@example.com'), (7, 'Miss Sheila Lehner Jr.', '77aa9946-a96d-373c-a227-d63bc1afcc90', 296, 'Lang Club', 866.694, 1.2, 984.838, '1999-08-19 03:22:44+00:00', '2017-07-30 09:27:02+00:00', 'becker.beatrice@example.com')  ... displaying 10 of 44500 total bound parameter sets ...  (44498, 'Miss Krista Kuhic', 'c9b46a89-e252-3e69-9b4c-d2a1f7bd86e8', 235, 'Roselyn Road', 3366.3, 1.0, 2695.0, '1981-03-17 13:05:45+00:00', '1986-06-24 12:35:27+00:00', 'leland.vonrueden@example.net'), (44499, 'Miss Krista Kuhic', 'c9b46a89-e252-3e69-9b4c-d2a1f7bd86e8', 235, 'Roselyn Road', 3366.3, 2.17575, 1267.55, '1981-03-17 13:05:45+00:00', '1986-06-24 12:35:27+00:00', 'leland.vonrueden@example.net')]\n"
          ]
        },
        {
          "output_type": "stream",
          "name": "stderr",
          "text": [
            "INFO:sqlalchemy.engine.Engine:[generated in 0.47174s] [(0, 'Mason Howell', '442bc2f0-22d3-3c8a-9f71-0f9c16cee0b2', 296, 'Lang Club', 866.694, 3.8999, 2433.8, '1997-09-17 21:50:14+00:00', '2007-02-15 19:34:06+00:00', 'jessica.cole@example.net'), (1, 'Mason Howell', '442bc2f0-22d3-3c8a-9f71-0f9c16cee0b2', 296, 'Lang Club', 866.694, 4.0, 1196.58, '1997-09-17 21:50:14+00:00', '2007-02-15 19:34:06+00:00', 'jessica.cole@example.net'), (2, 'Mason Howell', '442bc2f0-22d3-3c8a-9f71-0f9c16cee0b2', 296, 'Lang Club', 866.694, 1.38452, 1975.0, '1997-09-17 21:50:14+00:00', '2007-02-15 19:34:06+00:00', 'jessica.cole@example.net'), (3, 'Mason Howell', '442bc2f0-22d3-3c8a-9f71-0f9c16cee0b2', 296, 'Lang Club', 866.694, 2.225, 119.526, '1997-09-17 21:50:14+00:00', '2007-02-15 19:34:06+00:00', 'jessica.cole@example.net'), (4, 'Mason Howell', '442bc2f0-22d3-3c8a-9f71-0f9c16cee0b2', 296, 'Lang Club', 866.694, 2.89, 2386.94, '1997-09-17 21:50:14+00:00', '2007-02-15 19:34:06+00:00', 'jessica.cole@example.net'), (5, 'Miss Sheila Lehner Jr.', '77aa9946-a96d-373c-a227-d63bc1afcc90', 296, 'Lang Club', 866.694, 0.0451353, 172.68, '1999-08-19 03:22:44+00:00', '2017-07-30 09:27:02+00:00', 'becker.beatrice@example.com'), (6, 'Miss Sheila Lehner Jr.', '77aa9946-a96d-373c-a227-d63bc1afcc90', 296, 'Lang Club', 866.694, 3.0, 959.38, '1999-08-19 03:22:44+00:00', '2017-07-30 09:27:02+00:00', 'becker.beatrice@example.com'), (7, 'Miss Sheila Lehner Jr.', '77aa9946-a96d-373c-a227-d63bc1afcc90', 296, 'Lang Club', 866.694, 1.2, 984.838, '1999-08-19 03:22:44+00:00', '2017-07-30 09:27:02+00:00', 'becker.beatrice@example.com')  ... displaying 10 of 44500 total bound parameter sets ...  (44498, 'Miss Krista Kuhic', 'c9b46a89-e252-3e69-9b4c-d2a1f7bd86e8', 235, 'Roselyn Road', 3366.3, 1.0, 2695.0, '1981-03-17 13:05:45+00:00', '1986-06-24 12:35:27+00:00', 'leland.vonrueden@example.net'), (44499, 'Miss Krista Kuhic', 'c9b46a89-e252-3e69-9b4c-d2a1f7bd86e8', 235, 'Roselyn Road', 3366.3, 2.17575, 1267.55, '1981-03-17 13:05:45+00:00', '1986-06-24 12:35:27+00:00', 'leland.vonrueden@example.net')]\n"
          ]
        },
        {
          "output_type": "stream",
          "name": "stdout",
          "text": [
            "2024-05-10 15:25:15,128 INFO sqlalchemy.engine.Engine SELECT name FROM sqlite_master WHERE type='table' AND name NOT LIKE 'sqlite~_%' ESCAPE '~' ORDER BY name\n"
          ]
        },
        {
          "output_type": "stream",
          "name": "stderr",
          "text": [
            "INFO:sqlalchemy.engine.Engine:SELECT name FROM sqlite_master WHERE type='table' AND name NOT LIKE 'sqlite~_%' ESCAPE '~' ORDER BY name\n"
          ]
        },
        {
          "output_type": "stream",
          "name": "stdout",
          "text": [
            "2024-05-10 15:25:15,134 INFO sqlalchemy.engine.Engine [raw sql] ()\n"
          ]
        },
        {
          "output_type": "stream",
          "name": "stderr",
          "text": [
            "INFO:sqlalchemy.engine.Engine:[raw sql] ()\n"
          ]
        },
        {
          "output_type": "stream",
          "name": "stdout",
          "text": [
            "2024-05-10 15:25:15,139 INFO sqlalchemy.engine.Engine COMMIT\n"
          ]
        },
        {
          "output_type": "stream",
          "name": "stderr",
          "text": [
            "INFO:sqlalchemy.engine.Engine:COMMIT\n"
          ]
        }
      ]
    },
    {
      "cell_type": "markdown",
      "source": [
        "# Conexão com o bando de dados SQL\n",
        "\n",
        "Utilizando a biblioteca sqlalchemy vamos nos conectar ao banco em memória e executar uma query de testes para selecionar o nome e o preço do produto vendido mais recentemente."
      ],
      "metadata": {
        "id": "MIzNDLVDGFDG"
      }
    },
    {
      "cell_type": "code",
      "source": [
        "with database_temp.connect() as conn:\n",
        "    result = conn.execute(text(\"Select product, price_y from Sales ORDER BY created_at DESC LIMIT 1\"))"
      ],
      "metadata": {
        "colab": {
          "base_uri": "https://localhost:8080/"
        },
        "id": "uS88Z37AGChm",
        "outputId": "ddc5a7b0-9475-476e-f77c-a468ae4eaf47"
      },
      "execution_count": 94,
      "outputs": [
        {
          "output_type": "stream",
          "name": "stdout",
          "text": [
            "2024-05-10 16:36:12,922 INFO sqlalchemy.engine.Engine BEGIN (implicit)\n"
          ]
        },
        {
          "output_type": "stream",
          "name": "stderr",
          "text": [
            "INFO:sqlalchemy.engine.Engine:BEGIN (implicit)\n"
          ]
        },
        {
          "output_type": "stream",
          "name": "stdout",
          "text": [
            "2024-05-10 16:36:12,926 INFO sqlalchemy.engine.Engine Select product, price_y from Sales ORDER BY created_at DESC LIMIT 1\n"
          ]
        },
        {
          "output_type": "stream",
          "name": "stderr",
          "text": [
            "INFO:sqlalchemy.engine.Engine:Select product, price_y from Sales ORDER BY created_at DESC LIMIT 1\n"
          ]
        },
        {
          "output_type": "stream",
          "name": "stdout",
          "text": [
            "2024-05-10 16:36:12,930 INFO sqlalchemy.engine.Engine [cached since 2246s ago] ()\n"
          ]
        },
        {
          "output_type": "stream",
          "name": "stderr",
          "text": [
            "INFO:sqlalchemy.engine.Engine:[cached since 2246s ago] ()\n"
          ]
        },
        {
          "output_type": "stream",
          "name": "stdout",
          "text": [
            "2024-05-10 16:36:12,955 INFO sqlalchemy.engine.Engine ROLLBACK\n"
          ]
        },
        {
          "output_type": "stream",
          "name": "stderr",
          "text": [
            "INFO:sqlalchemy.engine.Engine:ROLLBACK\n"
          ]
        }
      ]
    },
    {
      "cell_type": "markdown",
      "source": [
        "Aqui conferimos o resultado."
      ],
      "metadata": {
        "id": "JrCVjSPZH3_i"
      }
    },
    {
      "cell_type": "code",
      "source": [
        "result.all()"
      ],
      "metadata": {
        "colab": {
          "base_uri": "https://localhost:8080/"
        },
        "id": "mJ1u-A_PHKJ3",
        "outputId": "2f4ef808-2c01-4ea9-e3ab-7fd8c3d2966f"
      },
      "execution_count": 95,
      "outputs": [
        {
          "output_type": "execute_result",
          "data": {
            "text/plain": [
              "[('Vinnie Valleys', 349.0)]"
            ]
          },
          "metadata": {},
          "execution_count": 95
        }
      ]
    },
    {
      "cell_type": "markdown",
      "source": [
        "# Informar ao Gemini qual é a estrutura das tabelas do nosso banco de dados SQL\n",
        "\n",
        "Aqui podemos utilizar algumas das estratégias que foram ensinadas na Imersão Inteligência Artificial 2ª Edição da Alura, o objetivo é dizer previamente ao gemini como é a estrutura das tabelas do nosso banco antes de ele tentar criar uma query, e essa definição pode ser enviada como primeira parte do prompt confome exemplo abaixo."
      ],
      "metadata": {
        "id": "CDU7pwtlIW_i"
      }
    },
    {
      "cell_type": "markdown",
      "source": [],
      "metadata": {
        "id": "Cw-x4-hrGD4t"
      }
    },
    {
      "cell_type": "code",
      "source": [
        "### Postgres SQL tables, with their properties:\n",
        "#\n",
        "# Sales(sale_id, name, product)\n",
        "#\n",
        "### A query to list the names of the products which have more than 10 sales in the last 3 months\n",
        "# SELECT"
      ],
      "metadata": {
        "id": "bLnQjKitJpff"
      },
      "execution_count": null,
      "outputs": []
    },
    {
      "cell_type": "markdown",
      "source": [
        "Esta função retorna um prompt que informa ao Gemini que queremos trabalhar com as tabelas e campos SQL da nossa fonte de dados."
      ],
      "metadata": {
        "id": "ZZoqiHL_KXVC"
      }
    },
    {
      "cell_type": "code",
      "source": [
        "def create_table_structure_prompt(df):\n",
        "\n",
        "    prompt = '''### sqlite SQL table, with its properties:\n",
        "#\n",
        "# Sales({})\n",
        "#\n",
        "'''.format(\",\".join(str(x) for x in df.columns))\n",
        "\n",
        "    return prompt"
      ],
      "metadata": {
        "id": "kTCO0Yr1J8eQ"
      },
      "execution_count": 22,
      "outputs": []
    },
    {
      "cell_type": "code",
      "source": [
        "print(create_table_structure_prompt(df))"
      ],
      "metadata": {
        "colab": {
          "base_uri": "https://localhost:8080/"
        },
        "id": "aI73C0iELTUR",
        "outputId": "e63f96ca-85a3-41fd-f3fb-b2e58f8486aa"
      },
      "execution_count": 23,
      "outputs": [
        {
          "output_type": "stream",
          "name": "stdout",
          "text": [
            "### sqlite SQL table, with its properties:\n",
            "#\n",
            "# Sales(name,sale_id,product_id,product,price_y,quantity,price_x,created_at,updated_at,email)\n",
            "#\n",
            "\n"
          ]
        }
      ]
    },
    {
      "cell_type": "markdown",
      "source": [
        "# Montando nossa requisição em linguagem natural para Gemini.\n",
        "\n",
        "\n",
        "Exemplo : Retorne os campos, produto e preço, do produto vendido mais recentemente."
      ],
      "metadata": {
        "id": "WCiJJSpJL0dT"
      }
    },
    {
      "cell_type": "code",
      "source": [
        "def prompt_input():\n",
        "    linguagem_natural = input(\"Olá, Insira as informações que deseja obter: \")\n",
        "    return linguagem_natural"
      ],
      "metadata": {
        "id": "M12u-B1KLz2S"
      },
      "execution_count": 39,
      "outputs": []
    },
    {
      "cell_type": "code",
      "source": [
        "linguagem_natural = prompt_input()"
      ],
      "metadata": {
        "colab": {
          "base_uri": "https://localhost:8080/"
        },
        "id": "AP7XnpAXMXQc",
        "outputId": "4cb3f8fe-d1b5-41de-d43d-a0e8f6be64d3"
      },
      "execution_count": 85,
      "outputs": [
        {
          "name": "stdout",
          "output_type": "stream",
          "text": [
            "Olá, Insira as informações que deseja obter: Retorne os campos, produto e preço, do produto vendido mais recentemente\n"
          ]
        }
      ]
    },
    {
      "cell_type": "markdown",
      "source": [
        "Agora iremos combinar tudo em um só prompt."
      ],
      "metadata": {
        "id": "hJhM9P5xMcT1"
      }
    },
    {
      "cell_type": "code",
      "source": [
        "def combine_prompts(df, query_prompt):\n",
        "    database_definition = create_table_structure_prompt(df)\n",
        "    query_init_string = f\"### A query to answer: {query_prompt}\\nSELECT\"\n",
        "    return database_definition+query_init_string"
      ],
      "metadata": {
        "id": "uyIOg0mPMinm"
      },
      "execution_count": 86,
      "outputs": []
    },
    {
      "cell_type": "markdown",
      "source": [
        "Excutando a linha abaixo você pode verificar o prompt final e fazer ajustes."
      ],
      "metadata": {
        "id": "dCxNch1hNFcp"
      }
    },
    {
      "cell_type": "code",
      "source": [
        "combine_prompts(df, linguagem_natural)"
      ],
      "metadata": {
        "colab": {
          "base_uri": "https://localhost:8080/",
          "height": 53
        },
        "id": "0uZFa6VNNBTP",
        "outputId": "45991bf9-2e60-42eb-e4dd-9a662a0deb01"
      },
      "execution_count": 87,
      "outputs": [
        {
          "output_type": "execute_result",
          "data": {
            "text/plain": [
              "'### sqlite SQL table, with its properties:\\n#\\n# Sales(name,sale_id,product_id,product,price_y,quantity,price_x,created_at,updated_at,email)\\n#\\n### A query to answer: Retorne os campos, produto e preço, do produto vendido mais recentemente\\nSELECT'"
            ],
            "application/vnd.google.colaboratory.intrinsic+json": {
              "type": "string"
            }
          },
          "metadata": {},
          "execution_count": 87
        }
      ]
    },
    {
      "cell_type": "markdown",
      "source": [
        "# Criando a chamada para o Gemini"
      ],
      "metadata": {
        "id": "BRlAmlj4NzHc"
      }
    },
    {
      "cell_type": "code",
      "source": [
        "model = genai.GenerativeModel('gemini-pro')"
      ],
      "metadata": {
        "id": "CIxT8C6mv0H6"
      },
      "execution_count": 88,
      "outputs": []
    },
    {
      "cell_type": "code",
      "source": [
        "response = model.generate_content(combine_prompts(df, linguagem_natural))\n",
        "print(response.text)"
      ],
      "metadata": {
        "colab": {
          "base_uri": "https://localhost:8080/",
          "height": 121
        },
        "id": "10EmjvtGv7ru",
        "outputId": "764b0e3e-4731-450b-f8ea-498617935a1f"
      },
      "execution_count": 89,
      "outputs": [
        {
          "output_type": "stream",
          "name": "stdout",
          "text": [
            "```sql\n",
            "SELECT product, price_y\n",
            "FROM Sales\n",
            "ORDER BY created_at DESC\n",
            "LIMIT 1;\n",
            "```\n"
          ]
        }
      ]
    },
    {
      "cell_type": "markdown",
      "source": [
        "Agora criaremos uma função para extrair somente a query sql sem os marcadores.\n",
        "Ps. o autor dessa função foi o próprio Gemini."
      ],
      "metadata": {
        "id": "b7Wk9wqMPpHc"
      }
    },
    {
      "cell_type": "code",
      "source": [
        "def extract_sql_query(sql_prompt):\n",
        "  \"\"\"\n",
        "  Extracts the SQL query from a gemini response text.\n",
        "\n",
        "  Args:\n",
        "      sql_prompt: The sql_prompt retuned from gemini.\n",
        "\n",
        "  Returns:\n",
        "      The extracted SQL query as a string.\n",
        "  \"\"\"\n",
        "  lines = sql_prompt.splitlines()\n",
        "  start_line = 1  # Assuming SELECT is on the second line\n",
        "  end_line = len(lines) - 1  # Assuming semicolon is on the last line\n",
        "  return \"\\n\".join(lines[start_line:end_line])"
      ],
      "metadata": {
        "id": "LqGOQ3-GPoGW"
      },
      "execution_count": 90,
      "outputs": []
    },
    {
      "cell_type": "code",
      "source": [
        "extracted_query = extract_sql_query(response.text)\n",
        "print(extracted_query)"
      ],
      "metadata": {
        "colab": {
          "base_uri": "https://localhost:8080/"
        },
        "id": "WtphdNHQQuBy",
        "outputId": "cb53f023-3377-43ad-c0d6-8ca2a121faca"
      },
      "execution_count": 91,
      "outputs": [
        {
          "output_type": "stream",
          "name": "stdout",
          "text": [
            "SELECT product, price_y\n",
            "FROM Sales\n",
            "ORDER BY created_at DESC\n",
            "LIMIT 1;\n"
          ]
        }
      ]
    },
    {
      "cell_type": "markdown",
      "source": [
        "# Incrível ! agora resta apenas passar o resultado como query em nosso banco de dados e verificar se ele acertou."
      ],
      "metadata": {
        "id": "o_Mhc3TQOzIV"
      }
    },
    {
      "cell_type": "code",
      "source": [
        "with database_temp.connect() as conn:\n",
        "    result = conn.execute(text(extract_sql_query(response.text)))"
      ],
      "metadata": {
        "colab": {
          "base_uri": "https://localhost:8080/"
        },
        "id": "TOfYAsTPOymH",
        "outputId": "ee19ce16-3272-4b9b-e7ed-3a6976bc63e4"
      },
      "execution_count": 92,
      "outputs": [
        {
          "output_type": "stream",
          "name": "stdout",
          "text": [
            "2024-05-10 16:35:51,717 INFO sqlalchemy.engine.Engine BEGIN (implicit)\n"
          ]
        },
        {
          "output_type": "stream",
          "name": "stderr",
          "text": [
            "INFO:sqlalchemy.engine.Engine:BEGIN (implicit)\n"
          ]
        },
        {
          "output_type": "stream",
          "name": "stdout",
          "text": [
            "2024-05-10 16:35:51,721 INFO sqlalchemy.engine.Engine SELECT product, price_y\n",
            "FROM Sales\n",
            "ORDER BY created_at DESC\n",
            "LIMIT 1;\n"
          ]
        },
        {
          "output_type": "stream",
          "name": "stderr",
          "text": [
            "INFO:sqlalchemy.engine.Engine:SELECT product, price_y\n",
            "FROM Sales\n",
            "ORDER BY created_at DESC\n",
            "LIMIT 1;\n"
          ]
        },
        {
          "output_type": "stream",
          "name": "stdout",
          "text": [
            "2024-05-10 16:35:51,726 INFO sqlalchemy.engine.Engine [generated in 0.00868s] ()\n"
          ]
        },
        {
          "output_type": "stream",
          "name": "stderr",
          "text": [
            "INFO:sqlalchemy.engine.Engine:[generated in 0.00868s] ()\n"
          ]
        },
        {
          "output_type": "stream",
          "name": "stdout",
          "text": [
            "2024-05-10 16:35:51,743 INFO sqlalchemy.engine.Engine ROLLBACK\n"
          ]
        },
        {
          "output_type": "stream",
          "name": "stderr",
          "text": [
            "INFO:sqlalchemy.engine.Engine:ROLLBACK\n"
          ]
        }
      ]
    },
    {
      "cell_type": "code",
      "source": [
        "result.all()"
      ],
      "metadata": {
        "colab": {
          "base_uri": "https://localhost:8080/"
        },
        "id": "SPmqNQ59Q-PK",
        "outputId": "d0e9949e-4e62-49d4-9a60-d2d429a44983"
      },
      "execution_count": 93,
      "outputs": [
        {
          "output_type": "execute_result",
          "data": {
            "text/plain": [
              "[('Vinnie Valleys', 349.0)]"
            ]
          },
          "metadata": {},
          "execution_count": 93
        }
      ]
    },
    {
      "cell_type": "markdown",
      "source": [
        "# Show ele acertou na mosca !\n",
        "\n",
        "## Tente com outros exemplos de solicitação também, basta seguir a partir da etapa \"Montando nossa requisição em linguagem natural para Gemini.\" e inserir uma solicitação diferente por exemplo : 5 produtos mais caros."
      ],
      "metadata": {
        "id": "0Iv51xJBRqhc"
      }
    }
  ]
}